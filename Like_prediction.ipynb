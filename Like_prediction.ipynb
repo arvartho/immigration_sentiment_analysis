{
  "nbformat": 4,
  "nbformat_minor": 0,
  "metadata": {
    "kernelspec": {
      "display_name": "Python 3",
      "language": "python",
      "name": "python3"
    },
    "language_info": {
      "codemirror_mode": {
        "name": "ipython",
        "version": 3
      },
      "file_extension": ".py",
      "mimetype": "text/x-python",
      "name": "python",
      "nbconvert_exporter": "python",
      "pygments_lexer": "ipython3",
      "version": "3.7.5"
    },
    "colab": {
      "name": "Like_prediction.ipynb",
      "provenance": [],
      "collapsed_sections": []
    }
  },
  "cells": [
    {
      "cell_type": "code",
      "metadata": {
        "id": "THdox6gcaQ2y",
        "colab_type": "code",
        "colab": {
          "base_uri": "https://localhost:8080/",
          "height": 34
        },
        "outputId": "41bf17be-a011-47c6-917f-68143a7faa1d"
      },
      "source": [
        "! pip install emoji"
      ],
      "execution_count": 1,
      "outputs": [
        {
          "output_type": "stream",
          "text": [
            "Requirement already satisfied: emoji in /usr/local/lib/python3.6/dist-packages (0.5.4)\n"
          ],
          "name": "stdout"
        }
      ]
    },
    {
      "cell_type": "code",
      "metadata": {
        "id": "6_wYLOuOUx6e",
        "colab_type": "code",
        "colab": {
          "base_uri": "https://localhost:8080/",
          "height": 34
        },
        "outputId": "b54ccf10-1c51-4406-eb00-0e373b54ce4a"
      },
      "source": [
        "import pandas as pd\n",
        "import numpy as np\n",
        "import re\n",
        "import datetime\n",
        "import math\n",
        "import time\n",
        "from sklearn.feature_extraction.text import TfidfVectorizer\n",
        "import matplotlib.pyplot as plt\n",
        "from nltk.stem import PorterStemmer \n",
        "from nltk.tokenize import word_tokenize\n",
        "from google.colab import drive\n",
        "drive.mount('/content/drive')"
      ],
      "execution_count": 2,
      "outputs": [
        {
          "output_type": "stream",
          "text": [
            "Drive already mounted at /content/drive; to attempt to forcibly remount, call drive.mount(\"/content/drive\", force_remount=True).\n"
          ],
          "name": "stdout"
        }
      ]
    },
    {
      "cell_type": "code",
      "metadata": {
        "id": "CWYkFuSiYYOP",
        "colab_type": "code",
        "colab": {
          "base_uri": "https://localhost:8080/",
          "height": 68
        },
        "outputId": "aad47b71-70bb-4d3d-cc78-bcdf848fbcdc"
      },
      "source": [
        "!ls /content/drive/My\\ Drive/Colab\\ Notebooks/immigration_sentiment_analysis/TweetProcessor/*.py\n",
        "#!cat '/content/drive/My Drive/Colab Notebooks/immigration_sentiment_analysis/TweetProcessor/TweetProcessor.py'\n",
        "import sys\n",
        "sys.path.append('/content/drive/My Drive/Colab Notebooks/immigration_sentiment_analysis/TweetProcessor')\n",
        "import TweetProcessor as tp\n",
        "tweet_processor = tp.TweetProcessor()"
      ],
      "execution_count": 3,
      "outputs": [
        {
          "output_type": "stream",
          "text": [
            "'/content/drive/My Drive/Colab Notebooks/immigration_sentiment_analysis/TweetProcessor/TweetProcessor.py'\n"
          ],
          "name": "stdout"
        },
        {
          "output_type": "stream",
          "text": [
            "/usr/local/lib/python3.6/dist-packages/nltk/twitter/__init__.py:20: UserWarning: The twython library has not been installed. Some functionality from the twitter package will not be available.\n",
            "  warnings.warn(\"The twython library has not been installed. \"\n"
          ],
          "name": "stderr"
        }
      ]
    },
    {
      "cell_type": "code",
      "metadata": {
        "id": "ZVpMA_LeXSse",
        "colab_type": "code",
        "colab": {}
      },
      "source": [
        "# Tag Removal\n",
        "def remove_tags(tweet):  \n",
        "  return re.sub('@\\S*', '', tweet)\n",
        "\n",
        "def remove_outliers(series):\n",
        "  x = series\n",
        "  UPPERBOUND, LOWERBOUND = np.percentile(x, [1,99])\n",
        "  y = np.clip(x, UPPERBOUND, LOWERBOUND)\n",
        "  return pd.Series(y)"
      ],
      "execution_count": 4,
      "outputs": []
    },
    {
      "cell_type": "code",
      "metadata": {
        "id": "4hbC6PkIUx6o",
        "colab_type": "code",
        "colab": {
          "base_uri": "https://localhost:8080/",
          "height": 51
        },
        "outputId": "d6bec4af-c99b-4fc7-dced-964fe44278c4"
      },
      "source": [
        "file = \"/content/drive/My Drive/Colab Notebooks/immigration_sentiment_analysis/data/tweet_immigration_db.csv\"\n",
        "raw_data_df = pd.read_csv(file)"
      ],
      "execution_count": 5,
      "outputs": [
        {
          "output_type": "stream",
          "text": [
            "/usr/local/lib/python3.6/dist-packages/IPython/core/interactiveshell.py:2718: DtypeWarning: Columns (6,7,12,14) have mixed types.Specify dtype option on import or set low_memory=False.\n",
            "  interactivity=interactivity, compiler=compiler, result=result)\n"
          ],
          "name": "stderr"
        }
      ]
    },
    {
      "cell_type": "code",
      "metadata": {
        "id": "X29TOk0lqQSx",
        "colab_type": "code",
        "colab": {}
      },
      "source": [
        "raw_data_df = raw_data_df[['text', 'retweet_count']]\n",
        "raw_data_df = raw_data_df.dropna()\n",
        "i = raw_data_df[((raw_data_df.retweet_count == 'retweet_count'))].index\n",
        "raw_data_df = raw_data_df.drop(i)\n",
        "raw_data_df['retweet_count'] = raw_data_df['retweet_count'].apply(lambda x : int(x))\n",
        "raw_data_df['retweet_count'] = remove_outliers(raw_data_df['retweet_count'])\n",
        "data = raw_data_df.sample(n = 18000,  random_state=2)"
      ],
      "execution_count": 6,
      "outputs": []
    },
    {
      "cell_type": "code",
      "metadata": {
        "id": "jNeEU-luADBN",
        "colab_type": "code",
        "colab": {
          "base_uri": "https://localhost:8080/",
          "height": 419
        },
        "outputId": "0bc5175d-3363-41dc-f219-e34a4a2ee24d"
      },
      "source": [
        "data"
      ],
      "execution_count": 7,
      "outputs": [
        {
          "output_type": "execute_result",
          "data": {
            "text/html": [
              "<div>\n",
              "<style scoped>\n",
              "    .dataframe tbody tr th:only-of-type {\n",
              "        vertical-align: middle;\n",
              "    }\n",
              "\n",
              "    .dataframe tbody tr th {\n",
              "        vertical-align: top;\n",
              "    }\n",
              "\n",
              "    .dataframe thead th {\n",
              "        text-align: right;\n",
              "    }\n",
              "</style>\n",
              "<table border=\"1\" class=\"dataframe\">\n",
              "  <thead>\n",
              "    <tr style=\"text-align: right;\">\n",
              "      <th></th>\n",
              "      <th>text</th>\n",
              "      <th>retweet_count</th>\n",
              "    </tr>\n",
              "  </thead>\n",
              "  <tbody>\n",
              "    <tr>\n",
              "      <th>19185</th>\n",
              "      <td>@FLOTUS @RedCross “But the First Lady’s weapon...</td>\n",
              "      <td>0.0</td>\n",
              "    </tr>\n",
              "    <tr>\n",
              "      <th>1002</th>\n",
              "      <td>RT @Free_Media_Hub: The fragmented politics of...</td>\n",
              "      <td>4.0</td>\n",
              "    </tr>\n",
              "    <tr>\n",
              "      <th>23412</th>\n",
              "      <td>RT @UR_Ninja: At one point last year, a Feuerk...</td>\n",
              "      <td>13.0</td>\n",
              "    </tr>\n",
              "    <tr>\n",
              "      <th>76268</th>\n",
              "      <td>So now I have a 3 week extension on my visa an...</td>\n",
              "      <td>0.0</td>\n",
              "    </tr>\n",
              "    <tr>\n",
              "      <th>81408</th>\n",
              "      <td>RT @vinaysreeni: A chance to correct my errors...</td>\n",
              "      <td>27.0</td>\n",
              "    </tr>\n",
              "    <tr>\n",
              "      <th>...</th>\n",
              "      <td>...</td>\n",
              "      <td>...</td>\n",
              "    </tr>\n",
              "    <tr>\n",
              "      <th>22670</th>\n",
              "      <td>@brainpicker @rgay At @LIRSorg, teleworking st...</td>\n",
              "      <td>0.0</td>\n",
              "    </tr>\n",
              "    <tr>\n",
              "      <th>42555</th>\n",
              "      <td>RT @someshjha7: Thread: Today, the Delhi Polic...</td>\n",
              "      <td>14.0</td>\n",
              "    </tr>\n",
              "    <tr>\n",
              "      <th>19088</th>\n",
              "      <td>How #coronavirus hits #migrants and #asylum se...</td>\n",
              "      <td>0.0</td>\n",
              "    </tr>\n",
              "    <tr>\n",
              "      <th>43276</th>\n",
              "      <td>RT @UMD_GLAO: TWO IMMIGRATION APPOINTMENTS STI...</td>\n",
              "      <td>2.0</td>\n",
              "    </tr>\n",
              "    <tr>\n",
              "      <th>36212</th>\n",
              "      <td>Seriously worries for India from what I’m seei...</td>\n",
              "      <td>0.0</td>\n",
              "    </tr>\n",
              "  </tbody>\n",
              "</table>\n",
              "<p>18000 rows × 2 columns</p>\n",
              "</div>"
            ],
            "text/plain": [
              "                                                    text  retweet_count\n",
              "19185  @FLOTUS @RedCross “But the First Lady’s weapon...            0.0\n",
              "1002   RT @Free_Media_Hub: The fragmented politics of...            4.0\n",
              "23412  RT @UR_Ninja: At one point last year, a Feuerk...           13.0\n",
              "76268  So now I have a 3 week extension on my visa an...            0.0\n",
              "81408  RT @vinaysreeni: A chance to correct my errors...           27.0\n",
              "...                                                  ...            ...\n",
              "22670  @brainpicker @rgay At @LIRSorg, teleworking st...            0.0\n",
              "42555  RT @someshjha7: Thread: Today, the Delhi Polic...           14.0\n",
              "19088  How #coronavirus hits #migrants and #asylum se...            0.0\n",
              "43276  RT @UMD_GLAO: TWO IMMIGRATION APPOINTMENTS STI...            2.0\n",
              "36212  Seriously worries for India from what I’m seei...            0.0\n",
              "\n",
              "[18000 rows x 2 columns]"
            ]
          },
          "metadata": {
            "tags": []
          },
          "execution_count": 7
        }
      ]
    },
    {
      "cell_type": "code",
      "metadata": {
        "id": "4mUmn8cRUx7T",
        "colab_type": "code",
        "colab": {}
      },
      "source": [
        "data = data.dropna()\n",
        "ps = PorterStemmer()\n",
        "clean_text = []\n",
        "for tweet in data['text']:\n",
        "    tweet = remove_tags(tweet)\n",
        "    tweet_list = tweet_processor.tweet_pipeline(tweet)\n",
        "    stemmed_tweet_list = []\n",
        "    for w in tweet_list: \n",
        "      stemmed_tweet_list.append(ps.stem(w))\n",
        "    clean_text.append(' '.join(stemmed_tweet_list))\n",
        "    "
      ],
      "execution_count": 8,
      "outputs": []
    },
    {
      "cell_type": "code",
      "metadata": {
        "id": "gxB02kRkUx8h",
        "colab_type": "code",
        "colab": {
          "base_uri": "https://localhost:8080/",
          "height": 34
        },
        "outputId": "cc7fdd44-45ae-4137-a0dc-9ae60f9e062b"
      },
      "source": [
        "data=data.reset_index()\n",
        "data=data.drop(['index'], axis=1)\n",
        "vectorizer = TfidfVectorizer()\n",
        "clean_text_tfidf = vectorizer.fit_transform(clean_text)\n",
        "clean_text_tfidf.shape"
      ],
      "execution_count": 9,
      "outputs": [
        {
          "output_type": "execute_result",
          "data": {
            "text/plain": [
              "(18000, 16057)"
            ]
          },
          "metadata": {
            "tags": []
          },
          "execution_count": 9
        }
      ]
    },
    {
      "cell_type": "code",
      "metadata": {
        "id": "UjWsz4FOUx8o",
        "colab_type": "code",
        "colab": {}
      },
      "source": [
        "data['text_tfidf'] = clean_text_tfidf.toarray().tolist()"
      ],
      "execution_count": 10,
      "outputs": []
    },
    {
      "cell_type": "code",
      "metadata": {
        "id": "ZMJWacARUx8w",
        "colab_type": "code",
        "colab": {
          "base_uri": "https://localhost:8080/",
          "height": 104
        },
        "outputId": "4267d913-0ecd-4954-8fe2-7dc9fc4d5717"
      },
      "source": [
        "from math import sqrt\n",
        "from sklearn import datasets, linear_model\n",
        "from sklearn.linear_model import SGDRegressor\n",
        "from sklearn.metrics import mean_squared_error, r2_score\n",
        "from sklearn.model_selection import train_test_split\n",
        "\n",
        "data_X = data['text_tfidf'].tolist()\n",
        "data_y = data['retweet_count']\n",
        "\n",
        "X_train, X_test, y_train, y_test = train_test_split(data_X, data_y, test_size=0.3, random_state=42)\n",
        "\n",
        "regr = SGDRegressor()\n",
        "regr.fit(X_train, y_train)\n",
        "\n",
        "pred = regr.predict(X_test)\n",
        "\n",
        "print('Mean squared error: %.2f' % sqrt(mean_squared_error(y_test, pred)))\n",
        "\n",
        "print('Coefficient of determination: %.2f' % r2_score(y_test, pred))"
      ],
      "execution_count": null,
      "outputs": [
        {
          "output_type": "stream",
          "text": [
            "Mean squared error: 43.97\n",
            "Coefficient of determination: 0.01\n"
          ],
          "name": "stdout"
        },
        {
          "output_type": "stream",
          "text": [
            "/usr/local/lib/python3.6/dist-packages/sklearn/linear_model/_stochastic_gradient.py:1187: ConvergenceWarning: Maximum number of iteration reached before convergence. Consider increasing max_iter to improve the fit.\n",
            "  ConvergenceWarning)\n"
          ],
          "name": "stderr"
        }
      ]
    },
    {
      "cell_type": "code",
      "metadata": {
        "id": "QMXzZ-UfncK1",
        "colab_type": "code",
        "colab": {}
      },
      "source": [
        "from sklearn.feature_extraction.text import TfidfVectorizer\n",
        "from sklearn.model_selection import train_test_split, GridSearchCV\n",
        "from sklearn.metrics import mean_squared_error\n",
        "from sklearn.linear_model import SGDRegressor\n",
        "\n",
        "X = data['text_tfidf'].tolist()\n",
        "y = data['retweet_count'].tolist()\n",
        "\n",
        "X_train, X_test, y_train, y_test= train_test_split(X, y, test_size=0.3, random_state=42)\n",
        "\n",
        "model = SGDRegressor(loss='squared_loss', penalty='l2', random_state=2, max_iter=5)\n",
        "params = {'penalty':['none','l2','l1'],\n",
        "          'alpha':[1e-4, 2e-4, 5e-4, 1e-3, 2e-3, 5e-3, 1e-2, 2e-2, 5e-2, 0.1]}\n",
        "gs = GridSearchCV(estimator=model,\n",
        "                  param_grid=params,\n",
        "                  scoring='neg_root_mean_squared_error',\n",
        "                  n_jobs=1,\n",
        "                  cv=5,\n",
        "                  verbose=3)\n",
        "\n",
        "gs.fit(X_train, y_train)"
      ],
      "execution_count": null,
      "outputs": []
    },
    {
      "cell_type": "code",
      "metadata": {
        "id": "hCV5v8Ic_pN4",
        "colab_type": "code",
        "colab": {
          "base_uri": "https://localhost:8080/",
          "height": 51
        },
        "outputId": "c775c803-d276-43d3-b5f3-1ad01ae76be3"
      },
      "source": [
        "model = gs.best_estimator_\n",
        "print(gs.best_params_)\n",
        "print(gs.best_score_)"
      ],
      "execution_count": 12,
      "outputs": [
        {
          "output_type": "stream",
          "text": [
            "{'alpha': 0.0001, 'penalty': 'none'}\n",
            "-41.28068345727\n"
          ],
          "name": "stdout"
        }
      ]
    },
    {
      "cell_type": "code",
      "metadata": {
        "id": "-8HmpPHG_qKA",
        "colab_type": "code",
        "colab": {}
      },
      "source": [
        "y_pred = model.predict(X_test)"
      ],
      "execution_count": null,
      "outputs": []
    }
  ]
}