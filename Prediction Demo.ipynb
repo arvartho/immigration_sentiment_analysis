{
 "cells": [
  {
   "cell_type": "code",
   "execution_count": 1,
   "metadata": {},
   "outputs": [],
   "source": [
    "import random\n",
    "import numpy as np\n",
    "import pandas as pd"
   ]
  },
  {
   "cell_type": "markdown",
   "metadata": {},
   "source": [
    "Load dataframe to fetch the tweet text that was selected"
   ]
  },
  {
   "cell_type": "code",
   "execution_count": 2,
   "metadata": {},
   "outputs": [
    {
     "data": {
      "text/plain": [
       "(37893,\n",
       " \"@shaunking @ICEgov Joe Biden's Patriot Act in full swing. He created ICE and has to be held accountable for his immigration record.\")"
      ]
     },
     "execution_count": 2,
     "metadata": {},
     "output_type": "execute_result"
    }
   ],
   "source": [
    "#Load dataframe\n",
    "immigration_df = pd.read_csv('data/tweet_immigration_db.csv',\n",
    "                             dtype={'user_followers_count': str,\n",
    "                                    'user_friends_count': str,\n",
    "                                    'favorite_count': str,\n",
    "                                    'retweet_count': str,\n",
    "                                   })\n",
    "# vectorize hashtags\n",
    "immigration_df.dropna(subset=['hashtags'], inplace=True)\n",
    "immigration_df.loc[:, 'hashtags'] = immigration_df['hashtags'].apply(lambda x: x.replace('[','').\n",
    "                                                                                 replace(']','').\n",
    "                                                                                 replace('\\'','').\n",
    "                                                                                 split(','))\n",
    "                                                                     \n",
    "# select item for testing\n",
    "index = random.randint(0, immigration_df.shape[0])                                                                                 \n",
    "tweet = immigration_df.iloc[index]['text']\n",
    "index, tweet"
   ]
  },
  {
   "cell_type": "markdown",
   "metadata": {},
   "source": [
    "#### Sentiment prediction demonstration"
   ]
  },
  {
   "cell_type": "code",
   "execution_count": 4,
   "metadata": {},
   "outputs": [
    {
     "data": {
      "text/plain": [
       "{'pred': 'neutral', 'prob': [0.0, 0.6, 0.4]}"
      ]
     },
     "execution_count": 4,
     "metadata": {},
     "output_type": "execute_result"
    }
   ],
   "source": [
    "from model_prediction import make_prediction\n",
    "model_filename = 'models/finalized_sentiment.model' \n",
    "\n",
    "make_prediction(model_filename, tweet)"
   ]
  },
  {
   "cell_type": "markdown",
   "metadata": {},
   "source": [
    "#### Emotion prediction demonstration"
   ]
  },
  {
   "cell_type": "code",
   "execution_count": 5,
   "metadata": {},
   "outputs": [
    {
     "data": {
      "text/plain": [
       "{'pred': ['anger', 'disgust'],\n",
       " 'prob': [0.913,\n",
       "  0.016,\n",
       "  0.951,\n",
       "  0.072,\n",
       "  0.001,\n",
       "  0.001,\n",
       "  0.011,\n",
       "  0.003,\n",
       "  0.097,\n",
       "  0.001,\n",
       "  0.0]}"
      ]
     },
     "execution_count": 5,
     "metadata": {},
     "output_type": "execute_result"
    }
   ],
   "source": [
    "from model_prediction import make_prediction\n",
    "model_filename = 'models/finalized_emotion.model'\n",
    "\n",
    "make_prediction(model_filename, tweet)"
   ]
  },
  {
   "cell_type": "markdown",
   "metadata": {},
   "source": [
    "#### CLI implementation:"
   ]
  },
  {
   "cell_type": "code",
   "execution_count": 6,
   "metadata": {},
   "outputs": [
    {
     "name": "stdout",
     "output_type": "stream",
     "text": [
      "usage: model_prediction.py [-h] [--model MODEL] [--text DOC]\r\n",
      "\r\n",
      "optional arguments:\r\n",
      "  -h, --help     show this help message and exit\r\n",
      "  --model MODEL  Path for sentiment/emotion model. Models can be found under\r\n",
      "                 \"models\" directory\r\n",
      "  --text DOC     Text for prediction\r\n"
     ]
    }
   ],
   "source": [
    "! python model_prediction.py --help "
   ]
  },
  {
   "cell_type": "markdown",
   "metadata": {},
   "source": [
    "#### Sentiment prediction using shell"
   ]
  },
  {
   "cell_type": "code",
   "execution_count": 7,
   "metadata": {},
   "outputs": [
    {
     "name": "stdout",
     "output_type": "stream",
     "text": [
      "{'pred': 'neutral', 'prob': [0.0, 1.0, 0.0]}\r\n"
     ]
    }
   ],
   "source": [
    "! python model_prediction.py --model \"models/finalized_sentiment.model\" --text \"This is a test!\""
   ]
  },
  {
   "cell_type": "markdown",
   "metadata": {},
   "source": [
    "#### Sentiment prediction using shell"
   ]
  },
  {
   "cell_type": "code",
   "execution_count": 8,
   "metadata": {},
   "outputs": [
    {
     "name": "stdout",
     "output_type": "stream",
     "text": [
      "{'pred': ['love', 'surprise'], 'prob': [0.094, 0.025, 0.106, 0.097, 0.062, 0.0, 0.107, 0.005, 0.189, 0.0, 0.0]}\r\n"
     ]
    }
   ],
   "source": [
    "! python model_prediction.py --model \"models/finalized_emotion.model\" --text \"This is a test!\""
   ]
  },
  {
   "cell_type": "code",
   "execution_count": null,
   "metadata": {},
   "outputs": [],
   "source": []
  }
 ],
 "metadata": {
  "kernelspec": {
   "display_name": "Python 3",
   "language": "python",
   "name": "python3"
  },
  "language_info": {
   "codemirror_mode": {
    "name": "ipython",
    "version": 3
   },
   "file_extension": ".py",
   "mimetype": "text/x-python",
   "name": "python",
   "nbconvert_exporter": "python",
   "pygments_lexer": "ipython3",
   "version": "3.7.4"
  }
 },
 "nbformat": 4,
 "nbformat_minor": 2
}
